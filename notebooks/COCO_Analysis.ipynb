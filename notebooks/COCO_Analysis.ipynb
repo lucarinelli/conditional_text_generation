{
  "nbformat": 4,
  "nbformat_minor": 0,
  "metadata": {
    "colab": {
      "name": "COCO Analysis.ipynb",
      "private_outputs": true,
      "provenance": [],
      "collapsed_sections": [],
      "authorship_tag": "ABX9TyOoHYqy709tBjHIrfcx7fDE",
      "include_colab_link": true
    },
    "kernelspec": {
      "name": "python3",
      "display_name": "Python 3"
    },
    "language_info": {
      "name": "python"
    }
  },
  "cells": [
    {
      "cell_type": "markdown",
      "metadata": {
        "id": "view-in-github",
        "colab_type": "text"
      },
      "source": [
        "<a href=\"https://colab.research.google.com/github/lucarinelli/conditional_text_generation/blob/main/notebooks/COCO_Analysis.ipynb\" target=\"_parent\"><img src=\"https://colab.research.google.com/assets/colab-badge.svg\" alt=\"Open In Colab\"/></a>"
      ]
    },
    {
      "cell_type": "markdown",
      "metadata": {
        "id": "Ao3J4b8BCcxq"
      },
      "source": [
        "# Import utilities"
      ]
    },
    {
      "cell_type": "code",
      "metadata": {
        "id": "7v04bA9kCWvJ"
      },
      "source": [
        "!pip install --quiet transformers datasets tokenizers"
      ],
      "execution_count": null,
      "outputs": []
    },
    {
      "cell_type": "code",
      "metadata": {
        "id": "qHX5DZOdgAQi"
      },
      "source": [
        "repo_dir = \"/content/conditional_text_generation\"\n",
        "!rm -r {repo_dir}\n",
        "!git clone https://github.com/lucarinelli/conditional_text_generation.git {repo_dir}"
      ],
      "execution_count": null,
      "outputs": []
    },
    {
      "cell_type": "code",
      "metadata": {
        "id": "pr4pKTB9gB0D"
      },
      "source": [
        "import sys\n",
        "import os\n",
        "\n",
        "module_path = os.path.abspath(repo_dir+\"/src\")\n",
        "if module_path not in sys.path:\n",
        "    sys.path.append(module_path)"
      ],
      "execution_count": null,
      "outputs": []
    },
    {
      "cell_type": "code",
      "metadata": {
        "id": "L7fZ7xMRhpHL"
      },
      "source": [
        "from captions_dataset import *"
      ],
      "execution_count": null,
      "outputs": []
    },
    {
      "cell_type": "markdown",
      "metadata": {
        "id": "tbpLMsKVCawo"
      },
      "source": [
        "# Configuration"
      ]
    },
    {
      "cell_type": "code",
      "metadata": {
        "id": "GchiM6ckwyff"
      },
      "source": [
        "%mkdir \"data\"\n",
        "data_path=\"./data\""
      ],
      "execution_count": null,
      "outputs": []
    },
    {
      "cell_type": "markdown",
      "metadata": {
        "id": "Bigk8H5eCqGK"
      },
      "source": [
        "# Coco Analysis"
      ]
    },
    {
      "cell_type": "code",
      "metadata": {
        "id": "6gZZQZIBZ3Mj"
      },
      "source": [
        "def computeAverageOnDataset(dataset, fieldExtractor):\n",
        "  count = 0\n",
        "  minV = None\n",
        "  maxV = None\n",
        "  for i in dataset:\n",
        "    l = len(fieldExtractor(i)) \n",
        "    count += l\n",
        "    if minV is None or l < minV: minV = l\n",
        "    if maxV is None or l > maxV: maxV = l\n",
        "  return count / len(dataset), minV, maxV"
      ],
      "execution_count": null,
      "outputs": []
    },
    {
      "cell_type": "code",
      "metadata": {
        "id": "SSZFNdMOcfoc"
      },
      "source": [
        "def logControlCodeAnalysis(type, use_supercategories, use_categories):\n",
        "  print(\"Creating dataset using {}\".format(type))\n",
        "  dataset_train, _, _ = load_or_setup_dataset(data_path=data_path, split=\"train\", use_supercategories = use_supercategories, use_categories = use_categories, force_dataset_update = True)\n",
        "  number_of_categories = list(map(lambda e: len(e[\"categories\"]), dataset_train))\n",
        "  average, min, max = computeAverageOnDataset(dataset_train, lambda e: e[\"categories\"])\n",
        "  percentile = 100 - len(list(filter(lambda nc: nc > average, number_of_categories))) / len(dataset_train) *100\n",
        "\n",
        "  print(\"For {} the average number of control codes per caption is {}.\\nIt's the {:.0f}th percentile. Minimum is {}. Maximum is {}\".format(type, average, percentile, min, max))"
      ],
      "execution_count": null,
      "outputs": []
    },
    {
      "cell_type": "code",
      "metadata": {
        "id": "C_gtmm1ZSwmU"
      },
      "source": [
        "logControlCodeAnalysis(\"supercategories only\", True, False)"
      ],
      "execution_count": null,
      "outputs": []
    },
    {
      "cell_type": "code",
      "metadata": {
        "id": "_FQiXVOuWIx4"
      },
      "source": [
        "logControlCodeAnalysis(\"categories only\", False, True )"
      ],
      "execution_count": null,
      "outputs": []
    },
    {
      "cell_type": "code",
      "metadata": {
        "id": "a1giwtjuXy6Z"
      },
      "source": [
        "logControlCodeAnalysis(\"categories and supercategories\", True, True)"
      ],
      "execution_count": null,
      "outputs": []
    },
    {
      "cell_type": "code",
      "metadata": {
        "id": "K_aNBSc8a-Aw"
      },
      "source": [
        "dataset_train, _, categories = load_or_setup_dataset(data_path, \"train\", True, False, True)\n",
        "averageChar, minC, maxC = computeAverageOnDataset(dataset_train, lambda e: e[\"caption\"])\n",
        "print(\"Average length of captions is {} chars. Min {} and max {}\".format(averageChar, minC, maxC))\n",
        "averageWords, minW, maxW = computeAverageOnDataset(dataset_train, lambda x: x[\"caption\"].split())\n",
        "print(\"Average length of captions is {} words. Min {} and max {}\".format(averageWords, minW, maxW))"
      ],
      "execution_count": null,
      "outputs": []
    },
    {
      "cell_type": "code",
      "metadata": {
        "id": "kDVOAn7ufGJZ"
      },
      "source": [
        "print(\"Database has {} entries.\".format(len(dataset_train)))"
      ],
      "execution_count": null,
      "outputs": []
    }
  ]
}