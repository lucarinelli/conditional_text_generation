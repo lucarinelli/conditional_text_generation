{
  "nbformat": 4,
  "nbformat_minor": 0,
  "metadata": {
    "colab": {
      "name": "COCO Analysis.ipynb",
      "private_outputs": true,
      "provenance": [],
      "collapsed_sections": [],
      "authorship_tag": "ABX9TyPZT/3slcNOeaDcoBwb3q1N",
      "include_colab_link": true
    },
    "kernelspec": {
      "name": "python3",
      "display_name": "Python 3"
    },
    "language_info": {
      "name": "python"
    }
  },
  "cells": [
    {
      "cell_type": "markdown",
      "metadata": {
        "id": "view-in-github",
        "colab_type": "text"
      },
      "source": [
        "<a href=\"https://colab.research.google.com/github/lucarinelli/conditional_text_generation/blob/main/notebooks/COCO_Analysis.ipynb\" target=\"_parent\"><img src=\"https://colab.research.google.com/assets/colab-badge.svg\" alt=\"Open In Colab\"/></a>"
      ]
    },
    {
      "cell_type": "markdown",
      "metadata": {
        "id": "Ao3J4b8BCcxq"
      },
      "source": [
        "# Import utilities"
      ]
    },
    {
      "cell_type": "code",
      "metadata": {
        "id": "7v04bA9kCWvJ"
      },
      "source": [
        "!pip install --quiet transformers datasets tokenizers"
      ],
      "execution_count": null,
      "outputs": []
    },
    {
      "cell_type": "code",
      "metadata": {
        "id": "qHX5DZOdgAQi"
      },
      "source": [
        "repo_dir = \"/content/conditional_text_generation\"\n",
        "!rm -r {repo_dir}\n",
        "!git clone https://github.com/lucarinelli/conditional_text_generation.git {repo_dir}"
      ],
      "execution_count": null,
      "outputs": []
    },
    {
      "cell_type": "code",
      "metadata": {
        "id": "pr4pKTB9gB0D"
      },
      "source": [
        "import sys\n",
        "import os\n",
        "\n",
        "module_path = os.path.abspath(repo_dir+\"/src\")\n",
        "if module_path not in sys.path:\n",
        "    sys.path.append(module_path)"
      ],
      "execution_count": null,
      "outputs": []
    },
    {
      "cell_type": "code",
      "metadata": {
        "id": "L7fZ7xMRhpHL"
      },
      "source": [
        "from captions_dataset import *"
      ],
      "execution_count": null,
      "outputs": []
    },
    {
      "cell_type": "markdown",
      "metadata": {
        "id": "tbpLMsKVCawo"
      },
      "source": [
        "# Configuration"
      ]
    },
    {
      "cell_type": "code",
      "metadata": {
        "id": "GchiM6ckwyff"
      },
      "source": [
        "%mkdir \"data\"\n",
        "data_path=\"./data\""
      ],
      "execution_count": null,
      "outputs": []
    },
    {
      "cell_type": "markdown",
      "metadata": {
        "id": "Bigk8H5eCqGK"
      },
      "source": [
        "# Coco Analysis"
      ]
    },
    {
      "cell_type": "code",
      "metadata": {
        "id": "6gZZQZIBZ3Mj"
      },
      "source": [
        "def computeAverageOnDataset(dataset, fieldExtractor):\n",
        "  count = 0\n",
        "  minV = None\n",
        "  maxV = None\n",
        "  for i in dataset:\n",
        "    l = len(fieldExtractor(i)) \n",
        "    count += l\n",
        "    if minV is None or l < minV: minV = l\n",
        "    if maxV is None or l > maxV: maxV = l\n",
        "  return count / len(dataset), minV, maxV"
      ],
      "execution_count": null,
      "outputs": []
    },
    {
      "cell_type": "code",
      "metadata": {
        "id": "sEU12zaI8y5w"
      },
      "source": [
        "def logControlCodeAnalysisOfDataset(dataset_type, control_code_type, use_supercategories, use_categories):\n",
        "  print(\"\\n\\nAnalysing {} dataset\".format(dataset_type))\n",
        "  dataset, _, _ = load_or_setup_dataset(data_path=data_path, split=dataset_type, use_supercategories = use_supercategories, use_categories = use_categories, force_dataset_update = True)\n",
        "  print(\"Creating dataset using {}\".format(control_code_type))\n",
        "  number_of_categories = list(map(lambda e: len(e[\"categories\"]), dataset))\n",
        "  average, min, max = computeAverageOnDataset(dataset, lambda e: e[\"categories\"])\n",
        "  percentile = 100 - len(list(filter(lambda nc: nc > average, number_of_categories))) / len(dataset) *100\n",
        "\n",
        "  print(\"For {} dataset using {} the average number of control codes per caption is {}.\\nIt's the {:.0f}th percentile. Minimum is {}. Maximum is {}\"\n",
        "    .format(dataset_type, control_code_type, average, percentile, min, max))"
      ],
      "execution_count": null,
      "outputs": []
    },
    {
      "cell_type": "code",
      "metadata": {
        "id": "SSZFNdMOcfoc"
      },
      "source": [
        "def logControlCodeAnalysis(type, use_supercategories, use_categories):\n",
        "  logControlCodeAnalysisOfDataset(\"train\", type, use_supercategories, use_categories)\n",
        "  logControlCodeAnalysisOfDataset(\"val\", type, use_supercategories, use_categories)"
      ],
      "execution_count": null,
      "outputs": []
    },
    {
      "cell_type": "code",
      "metadata": {
        "id": "C_gtmm1ZSwmU"
      },
      "source": [
        "logControlCodeAnalysis(\"supercategories only\", True, False)"
      ],
      "execution_count": null,
      "outputs": []
    },
    {
      "cell_type": "code",
      "metadata": {
        "id": "_FQiXVOuWIx4"
      },
      "source": [
        "logControlCodeAnalysis(\"categories only\", False, True )"
      ],
      "execution_count": null,
      "outputs": []
    },
    {
      "cell_type": "code",
      "metadata": {
        "id": "a1giwtjuXy6Z"
      },
      "source": [
        "logControlCodeAnalysis(\"categories and supercategories\", True, True)"
      ],
      "execution_count": null,
      "outputs": []
    },
    {
      "cell_type": "code",
      "metadata": {
        "id": "K_aNBSc8a-Aw"
      },
      "source": [
        "def compute_average_length_of_dataset(ds_type):\n",
        "  print(\"\\n\\nAnalysing {} dataset.\".format(ds_type))\n",
        "  ds, _, categories = load_or_setup_dataset(data_path, ds_type, True, False, True)\n",
        "  averageChar, minC, maxC = computeAverageOnDataset(ds, lambda e: e[\"caption\"])\n",
        "  print(\"Average length of captions is {} chars. Min {} and max {}\".format(averageChar, minC, maxC))\n",
        "  averageWords, minW, maxW = computeAverageOnDataset(ds, lambda x: x[\"caption\"].split())\n",
        "  print(\"Average length of captions is {} words. Min {} and max {}\".format(averageWords, minW, maxW))\n",
        "  print(\"Dataset of type {} has {} entries\".format(ds_type,len(ds)))\n"
      ],
      "execution_count": null,
      "outputs": []
    },
    {
      "cell_type": "code",
      "metadata": {
        "id": "4B5FzyI0-yyh"
      },
      "source": [
        "compute_average_length_of_dataset(\"train\")\n",
        "compute_average_length_of_dataset(\"val\")"
      ],
      "execution_count": null,
      "outputs": []
    }
  ]
}