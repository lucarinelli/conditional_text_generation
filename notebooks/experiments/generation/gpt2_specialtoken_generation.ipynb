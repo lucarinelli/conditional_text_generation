{
  "nbformat": 4,
  "nbformat_minor": 0,
  "metadata": {
    "colab": {
      "name": "gpt2-specialtoken-generation.ipynb",
      "private_outputs": true,
      "provenance": [],
      "collapsed_sections": [],
      "include_colab_link": true
    },
    "kernelspec": {
      "name": "python3",
      "display_name": "Python 3"
    },
    "language_info": {
      "name": "python"
    },
    "accelerator": "GPU"
  },
  "cells": [
    {
      "cell_type": "markdown",
      "metadata": {
        "id": "view-in-github",
        "colab_type": "text"
      },
      "source": [
        "<a href=\"https://colab.research.google.com/github/lucarinelli/conditional_text_generation/blob/main/notebooks/experiments/generation/gpt2_specialtoken_generation.ipynb\" target=\"_parent\"><img src=\"https://colab.research.google.com/assets/colab-badge.svg\" alt=\"Open In Colab\"/></a>"
      ]
    },
    {
      "cell_type": "markdown",
      "metadata": {
        "id": "YPNnl7gTDuRa"
      },
      "source": [
        "# Import"
      ]
    },
    {
      "cell_type": "code",
      "metadata": {
        "id": "rYNsw180_zNy"
      },
      "source": [
        "!pip install --quiet transformers tokenizers\n",
        "!git clone https://github.com/lucarinelli/conditional_text_generation.git /content/conditional_text_generation\n"
      ],
      "execution_count": null,
      "outputs": []
    },
    {
      "cell_type": "code",
      "metadata": {
        "id": "P93JBEcVACrn"
      },
      "source": [
        "import sys\n",
        "import os\n",
        "\n",
        "module_path = os.path.abspath(\"/content/conditional_text_generation/src\")\n",
        "if module_path not in sys.path:\n",
        "    sys.path.append(module_path)"
      ],
      "execution_count": null,
      "outputs": []
    },
    {
      "cell_type": "markdown",
      "metadata": {
        "id": "4Qnp5SrMDxLo"
      },
      "source": [
        "# Model declaration"
      ]
    },
    {
      "cell_type": "code",
      "metadata": {
        "id": "7RyDGgYkHX_5"
      },
      "source": [
        "from google.colab import drive\n",
        "drive.mount('/content/drive')"
      ],
      "execution_count": null,
      "outputs": []
    },
    {
      "cell_type": "code",
      "metadata": {
        "id": "7yfFtgrqHYpX"
      },
      "source": [
        "base_path = \"/content/drive/MyDrive/conditional_text_generation/runs/data/results/{}\"\n",
        "project_name = \"gpt2-TRUE_separators-10freezed\""
      ],
      "execution_count": null,
      "outputs": []
    },
    {
      "cell_type": "code",
      "metadata": {
        "id": "4u6EpYK9DynA"
      },
      "source": [
        "from transformers import GPT2LMHeadModel, GPT2TokenizerFast\n",
        "\n",
        "model = GPT2LMHeadModel.from_pretrained(base_path.format(project_name)).cuda()\n",
        "tokenizer = GPT2TokenizerFast.from_pretrained(base_path.format(project_name))"
      ],
      "execution_count": null,
      "outputs": []
    },
    {
      "cell_type": "markdown",
      "metadata": {
        "id": "hMdcJJMcDzI5"
      },
      "source": [
        "# Generation"
      ]
    },
    {
      "cell_type": "code",
      "metadata": {
        "id": "l_Bv8X6FEWXx"
      },
      "source": [
        "from generation import *\n",
        "\n",
        "generator = Generator(model, tokenizer)"
      ],
      "execution_count": null,
      "outputs": []
    },
    {
      "cell_type": "code",
      "metadata": {
        "id": "KCIJNgOfAFzo"
      },
      "source": [
        "starting_sentece = \"How are you\"\n",
        "control_codes = [\"pizza\"]\n",
        "generator.generate(control_codes, ControlCodeType.SPECIAL_TOKEN, starting_sentece, 30)"
      ],
      "execution_count": null,
      "outputs": []
    }
  ]
}