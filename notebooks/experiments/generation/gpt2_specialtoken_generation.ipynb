{
  "nbformat": 4,
  "nbformat_minor": 0,
  "metadata": {
    "colab": {
      "name": "gpt2-specialtoken-generation.ipynb",
      "private_outputs": true,
      "provenance": [],
      "authorship_tag": "ABX9TyPfUaCKRUeC4nlkID0LszfT",
      "include_colab_link": true
    },
    "kernelspec": {
      "name": "python3",
      "display_name": "Python 3"
    },
    "language_info": {
      "name": "python"
    },
    "accelerator": "GPU"
  },
  "cells": [
    {
      "cell_type": "markdown",
      "metadata": {
        "id": "view-in-github",
        "colab_type": "text"
      },
      "source": [
        "<a href=\"https://colab.research.google.com/github/lucarinelli/conditional_text_generation/blob/main/notebooks/experiments/generation/gpt2_specialtoken_generation.ipynb\" target=\"_parent\"><img src=\"https://colab.research.google.com/assets/colab-badge.svg\" alt=\"Open In Colab\"/></a>"
      ]
    },
    {
      "cell_type": "code",
      "metadata": {
        "id": "rYNsw180_zNy"
      },
      "source": [
        "!pip install --quiet transformers tokenizers wandb\n",
        "!git clone https://github.com/lucarinelli/conditional_text_generation.git /content/conditional_text_generation\n"
      ],
      "execution_count": null,
      "outputs": []
    },
    {
      "cell_type": "code",
      "metadata": {
        "id": "P93JBEcVACrn"
      },
      "source": [
        "import sys\n",
        "import os\n",
        "\n",
        "module_path = os.path.abspath(\"/content/conditional_text_generation/src\")\n",
        "if module_path not in sys.path:\n",
        "    sys.path.append(module_path)"
      ],
      "execution_count": null,
      "outputs": []
    },
    {
      "cell_type": "code",
      "metadata": {
        "id": "KCIJNgOfAFzo"
      },
      "source": [
        "from generation import *\n",
        "import wandb\n",
        "\n",
        "run = wandb.init()\n",
        "artifact = run.use_artifact('polito_aiml2021_textgen/distilgpt2-specialtoken/model-3b1lzdro:v0', type='model')\n",
        "artifact_dir = artifact.download()\n",
        "\n",
        "from transformers import GPT2LMHeadModel, GPT2TokenizerFast\n",
        "model = GPT2LMHeadModel.from_pretrained(artifact_dir)\n",
        "tokenizer = GPT2TokenizerFast.from_pretrained(artifact_dir)\n",
        "\n",
        "generator = Generator(model, tokenizer)\n",
        "starting_sentece = \"A person\"\n",
        "control_codes = [\"vehicle\"]\n",
        "generator.generate(control_codes, ControlCodeType.SPECIAL_TOKEN, starting_sentece, 16)"
      ],
      "execution_count": null,
      "outputs": []
    }
  ]
}